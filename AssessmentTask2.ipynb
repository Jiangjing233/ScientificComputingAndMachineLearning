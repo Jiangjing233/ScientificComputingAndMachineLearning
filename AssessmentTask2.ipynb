{
 "cells": [
  {
   "cell_type": "markdown",
   "id": "9684a39c",
   "metadata": {},
   "source": [
    "##                      Scientific Caluculation & Machine Learning\n",
    "##                      2022-23 Semester 2, AssessmentTask 2\n",
    "##                      Due time: CNT 23:59, SAT. 5 May 2023\n",
    "## Subject lecturer: Prof. Hong-qian Sang\n",
    "## Dept. : School of Artificial Intelligence "
   ]
  },
  {
   "cell_type": "markdown",
   "id": "22c44685",
   "metadata": {},
   "source": [
    "# 导入库\n",
    "导入了三个Python包\n",
    "\n",
    "numpy用于数值计算，\n",
    "scipy用于科学计算\n",
    "bqplot用于数据可视化。\n",
    "bqplot中的pyplot模块则被重命名为plt以便更方便地在代码中使用。\n",
    "\n"
   ]
  },
  {
   "cell_type": "code",
   "execution_count": 1,
   "id": "a5803a52",
   "metadata": {},
   "outputs": [],
   "source": [
    "%matplotlib notebook\n",
    "import numpy as np\n",
    "from scipy import integrate\n",
    "import bqplot as bq\n",
    "from bqplot import pyplot as plt"
   ]
  },
  {
   "cell_type": "markdown",
   "id": "10647274",
   "metadata": {},
   "source": [
    "# 函数定义：\n",
    "## 函数头\n",
    "定义了一个函数f，该函数采用了三个参数：t、y和args。t:时间，y:状态向量，args是一个元组(arguement)，包含了四个参数：G、m_A、m_B和m_C，分别表示万有引力常数、物体A、B和C的质量。\n",
    "\n",
    "## 函数体\n",
    "函数f将状态向量y分成了6个3维向量，分别表示A、B、C三个物体的位置和速度。然后，根据牛顿万有引力定律计算了三个物体之间的引力作用，并计算了每个物体的加速度，最后返回一个包含位置和速度的向量。\n",
    "\n",
    "## 函数功能\n",
    "\n",
    "函数f的主要功能是用于求解三体问题的运动方程，根据初始条件和牛顿力学定律计算出三个物体的运动轨迹。具体来说，它计算了每个物体在三个方向上的加速度，然后将加速度和速度合并，返回状态向量的导数，作为ODE求解器的输入，用于求解三体问题的解"
   ]
  },
  {
   "cell_type": "code",
   "execution_count": 2,
   "id": "5f8dbbd1",
   "metadata": {},
   "outputs": [],
   "source": [
    "def f(t, y, args):\n",
    "    G, m_A, m_B, m_C = args\n",
    "    pos_A, pos_B, pos_C, vel_A, vel_B, vel_C = y[:3], y[3:6], y[6:9], y[9:12], y[12:15], y[15:]\n",
    "    r_AB = np.sqrt(np.sum((pos_A-pos_B)**2))\n",
    "    r_BC = np.sqrt(np.sum((pos_B-pos_C)**2))\n",
    "    r_CA = np.sqrt(np.sum((pos_C-pos_A)**2))\n",
    "    F_A = m_A * m_B * G*(pos_B-pos_A)/r_AB**3 + m_C * m_A * G*(pos_C-pos_A)/r_CA**3\n",
    "    F_B = m_A * m_B * G*(pos_A-pos_B)/r_AB**3 + m_C * m_B * G*(pos_C-pos_B)/r_BC**3\n",
    "    F_C = m_A * m_C * G*(pos_A-pos_C)/r_CA**3 + m_C * m_B * G*(pos_B-pos_C)/r_BC**3\n",
    "    return np.hstack((vel_A, vel_B, vel_C, F_A/m_A, F_B/m_B, F_C/m_C))"
   ]
  },
  {
   "cell_type": "markdown",
   "id": "1f6c5b7d",
   "metadata": {},
   "source": [
    "# 开始初始化参数"
   ]
  },
  {
   "cell_type": "code",
   "execution_count": 3,
   "id": "6160bcf5",
   "metadata": {},
   "outputs": [],
   "source": [
    "G = 10.\n",
    "m_A = 1.\n",
    "m_B = 1.\n",
    "m_C = 1.\n",
    "\n",
    "args = (G, m_A, m_B, m_C)"
   ]
  },
  {
   "cell_type": "markdown",
   "id": "bbab92b3",
   "metadata": {},
   "source": [
    "## 参数含义\n",
    "pos_A、vel_A：表示物体A的位置和速度，分别为[0, 0, 0]和[0, 0, 0]。\n",
    "\n",
    "pos_B、vel_B：表示物体B的位置和速度，分别为[1, 0, 0]和[0, 2π, 0]。这里的速度是指围绕圆心旋转的速度，2π表示一周。\n",
    "\n",
    "pos_C、vel_C：表示物体C的位置和速度，分别为[0.5, √3/2, 0]和[√3π, -0.5π, 0]。这里的速度是指围绕圆心旋转的速度，√3π表示一周。\n",
    "\n",
    "y0：将上述位置和速度数组合并成一个一维数组，作为三体问题的初始状态向量。\n",
    "\n",
    "t：通过numpy的linspace函数生成从0到10的5000个等距时间点，用于求解三体问题的解。"
   ]
  },
  {
   "cell_type": "code",
   "execution_count": 4,
   "id": "191de252",
   "metadata": {},
   "outputs": [],
   "source": [
    "pos_A = np.array([0., 0., 0.])\n",
    "vel_A = np.array([0., 0., 0.])\n",
    "pos_B = np.array([1., 0., 0.])\n",
    "vel_B = np.array([0., 2. * np.pi, 0.])\n",
    "pos_C = np.array([0.5, np.sqrt(3)/2, 0.])\n",
    "vel_C = np.array([np.sqrt(3)/2 * 2. * np.pi, -0.5 * 2. * np.pi, 0.])\n",
    "\n",
    "'''Initial condition y0 must be one-dimensional'''\n",
    "y0 = np.hstack((pos_A, pos_B, pos_C, vel_A, vel_B, vel_C))\n",
    "\n",
    "t = np.linspace(0, 10, 5000)"
   ]
  },
  {
   "cell_type": "markdown",
   "id": "957aa674",
   "metadata": {},
   "source": [
    "# 设置ODE求解器的参数和初始状态。\n",
    "\n",
    "integrate.ode(f)：\n",
    "\n",
    "定义了一个名为r的ODE求解器，其中f为上面定义的运动方程函数。\n",
    "\n",
    "r.set_integrator('dopri5', rtol=1e-12, atol=1e-14)：\n",
    "设置ODE求解器的参数。这里使用了dopri5求解器，并设置了相对误差容限为1e-12，绝对误差容限为1e-14。\n",
    "\n",
    "\n",
    "r.set_initial_value(y0, t[0])：\n",
    "\n",
    "设置ODE求解器的初始状态。y0是三体问题的初始状态向量，t[0]是时间轴的起始时间点。\n",
    "\n",
    "\n",
    "r.set_f_params(args)：\n",
    "\n",
    "设置ODE求解器的附加参数。args是一个元组，包含了三体问题的相关参数，包括万有引力常数和三个物体的质量。\n"
   ]
  },
  {
   "cell_type": "code",
   "execution_count": 5,
   "id": "75a1c7d0",
   "metadata": {},
   "outputs": [
    {
     "data": {
      "text/plain": [
       "<scipy.integrate._ode.ode at 0x2210449e9d0>"
      ]
     },
     "execution_count": 5,
     "metadata": {},
     "output_type": "execute_result"
    }
   ],
   "source": [
    "\n",
    "r = integrate.ode(f)\n",
    "r.set_integrator('dopri5', rtol=1e-12, atol=1e-14)\n",
    "r.set_initial_value(y0, t[0])\n",
    "r.set_f_params(args)"
   ]
  },
  {
   "cell_type": "markdown",
   "id": "37517c9d",
   "metadata": {},
   "source": [
    "# 使用ODE求解器求解三体问题的运动方程，并将结果存储在数组中。"
   ]
  },
  {
   "cell_type": "markdown",
   "id": "9820d760",
   "metadata": {},
   "source": [
    "\n",
    "dt = t[1] - t[0]：计算时间步长dt，即相邻两个时间点之间的时间差。\n",
    "\n",
    "y_t = np.zeros((len(t), len(y0)))：初始化一个二维数组y_t，用于存储解。其中，y_t的行数为时间轴的长度，即5000，列数为初始状态向量y0的长度。\n",
    "\n",
    "idx = 0：初始化一个变量idx，用于记录当前时间点在时间轴上的位置。\n",
    "\n",
    "while循环的作用：在循环中，判断ODE求解器r是否成功，并且当前时间r.t是否小于时间轴的最后一个时间点。若满足条件，则执行以下操作：\n",
    "\n",
    "a. y_t[idx, :] = r.y：将ODE求解器当前的状态向量r.y存储在y_t数组的第idx行中，即记录当前时间点的三个物体的位置和速度。\n",
    "\n",
    "b. r.integrate(r.t + dt)：将ODE求解器的时间进一步推进dt，即计算下一个时间点的状态。\n",
    "\n",
    "c. idx = idx+1：将idx加1，以记录下一个时间点在y_t数组中的位置。"
   ]
  },
  {
   "cell_type": "code",
   "execution_count": 6,
   "id": "6ba7fd1d",
   "metadata": {},
   "outputs": [
    {
     "name": "stderr",
     "output_type": "stream",
     "text": [
      "E:\\ML\\Anaconda\\lib\\site-packages\\scipy\\integrate\\_ode.py:1179: UserWarning: dopri5: larger nsteps is needed\n",
      "  warnings.warn('{:s}: {:s}'.format(self.__class__.__name__,\n"
     ]
    }
   ],
   "source": [
    "dt = t[1] - t[0]\n",
    "y_t = np.zeros((len(t), len(y0)))\n",
    "\n",
    "idx = 0\n",
    "while r.successful() and r.t < t[-1]+1e-5:\n",
    "    y_t[idx, :] = r.y\n",
    "    r.integrate(r.t + dt)\n",
    "    idx = idx+1"
   ]
  },
  {
   "cell_type": "markdown",
   "id": "9e748ce0",
   "metadata": {},
   "source": [
    "# 使用bqplot包绘制三体问题的运动轨迹。\n",
    "figure = plt.figure(title='Bqplot Plot')：创建图形对象figure。\n",
    "\n",
    "figure.layout.height = '600px'和figure.layout.width = '600px'：设置图形对象figure的高度和宽度为600像素。\n",
    "\n",
    "plot_A、plot_B和plot_C：分别用红色、蓝色和绿色的线条绘制物体A、B、C在x-y平面上的轨迹。其中，y_t[:, 0]、y_t[:, 3]和y_t[:, 6]表示三个物体在x轴上的位置，y_t[:, 1]、y_t[:, 4]和y_t[:, 7]表示三个物体在y轴上的位置。\n",
    "\n",
    "scatter_A、scatter_B和scatter_C：分别用红点、蓝点和绿点表示物体A、B、C在初始时间点的位置。其中，y_t[:2, 0]、y_t[:2, 3]和y_t[:2, 6]表示三个物体在x轴上的位置，y_t[:2, 1]、y_t[:2, 4]和y_t[:2, 7]表示三个物体在y轴上的位置。\n"
   ]
  },
  {
   "cell_type": "code",
   "execution_count": 7,
   "id": "303c1af3",
   "metadata": {
    "scrolled": true
   },
   "outputs": [
    {
     "data": {
      "application/vnd.jupyter.widget-view+json": {
       "model_id": "5cea71c6147f4c3d8ddae074d58ff495",
       "version_major": 2,
       "version_minor": 0
      },
      "text/plain": [
       "VBox(children=(Figure(axes=[Axis(scale=LinearScale()), Axis(orientation='vertical', scale=LinearScale())], fig…"
      ]
     },
     "metadata": {},
     "output_type": "display_data"
    }
   ],
   "source": [
    "figure = plt.figure(title='Bqplot Plot')\n",
    "figure.layout.height = '600px'\n",
    "figure.layout.width = '600px'\n",
    "\n",
    "plot_A = plt.plot(y_t[:, 0],y_t[:, 1], 'r')  # A\n",
    "plot_B = plt.plot(y_t[:, 3],y_t[:, 4], 'b')  # B\n",
    "plot_C = plt.plot(y_t[:, 6],y_t[:, 7], 'g')  # C\n",
    "scatter_A = plt.scatter(y_t[:2, 0],y_t[:2, 1], colors=[\"red\"])\n",
    "scatter_B = plt.scatter(y_t[:2, 3],y_t[:2, 4], colors=[\"blue\"])\n",
    "scatter_C = plt.scatter(y_t[:2, 6],y_t[:2, 7], colors=[\"green\"])\n",
    "\n",
    "\n",
    "plt.show()"
   ]
  },
  {
   "cell_type": "markdown",
   "id": "45293935",
   "metadata": {},
   "source": [
    "# 结论："
   ]
  },
  {
   "cell_type": "markdown",
   "id": "dc106e4e",
   "metadata": {},
   "source": [
    "通过观察轨迹图可以发现，初始时质点的轨道相互靠近，但随着时间的推移，它们的轨道会发生剧烈的变化。"
   ]
  },
  {
   "cell_type": "code",
   "execution_count": null,
   "id": "0b0e9445",
   "metadata": {},
   "outputs": [],
   "source": []
  }
 ],
 "metadata": {
  "kernelspec": {
   "display_name": "Python 3 (ipykernel)",
   "language": "python",
   "name": "python3"
  },
  "language_info": {
   "codemirror_mode": {
    "name": "ipython",
    "version": 3
   },
   "file_extension": ".py",
   "mimetype": "text/x-python",
   "name": "python",
   "nbconvert_exporter": "python",
   "pygments_lexer": "ipython3",
   "version": "3.9.13"
  }
 },
 "nbformat": 4,
 "nbformat_minor": 5
}
