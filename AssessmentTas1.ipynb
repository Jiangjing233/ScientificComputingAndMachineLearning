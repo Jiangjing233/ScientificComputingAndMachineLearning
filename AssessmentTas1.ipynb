{
 "cells": [
  {
   "cell_type": "markdown",
   "id": "aa3afd0d",
   "metadata": {},
   "source": [
    "#                      Scientific Caluculation & Machine Learning\n",
    "#                      2022-23 Semester 2, AssessmentTask 1\n",
    "#                      Due time: CNT 23:59, Tuesday 18 April 2023\n",
    "# Subject lecturer: Prof. Hong-qian Sang\n",
    "# Dept. : School of Artificial Intelligence "
   ]
  },
  {
   "cell_type": "markdown",
   "id": "ee03d1ee-a4e0-4938-83d9-cbe1dc9ffbaf",
   "metadata": {
    "tags": []
   },
   "source": [
    "!pip install ipyvolume"
   ]
  },
  {
   "cell_type": "markdown",
   "id": "8a2315e3-f147-47da-985f-6223161fbc74",
   "metadata": {},
   "source": [
    "## 作业题目\n",
    "---\n",
    "\n",
    "考虑一个三变量函数（见下方代码），坐标区间为[-1, 1]。\n",
    "\n",
    "寻找这个函数的在(0.5, 0.5, 0.5)和(-0.5, -0.5, -0.5)附近的两个局部极小值，以及两个极小值之间路径上(-0.3, 0.3, 0.3)附近的鞍点。\n",
    "\n",
    "**要求**\n",
    "1. 数值结果误差小于1e-3。\n",
    "2. 不允许使用numpy和scipy之外的数学库，需手动实现算法。\n",
    "3. 不允许对提供的data的生成函数做符号分析（例如解析求导），data只能作为一个黑盒子使用。\n",
    "4. 为了模拟真实场景（data中数据点需要借助实验或者模拟仿真高成本获得），不允许对data进行遍历或暴力搜索。\n",
    "5. 代码优越性的评价取决于data中数据的读取次数，越低越好（读取次数越低，对应于真实场景中解决问题速度越快）。"
   ]
  },
  {
   "cell_type": "markdown",
   "id": "0ade9ecb-ef71-4788-9857-4838eb9199bf",
   "metadata": {},
   "source": [
    "为了方便大家对函数值的分布有直观认识，这里使用ipyvolume进行了3D可视化。"
   ]
  },
  {
   "cell_type": "code",
   "execution_count": 1,
   "id": "d56accb3-cce2-4e34-bcbc-829fd690ecd3",
   "metadata": {},
   "outputs": [
    {
     "ename": "AttributeError",
     "evalue": "type object 'DataImage' has no attribute '_instance_inits'",
     "output_type": "error",
     "traceback": [
      "\u001b[1;31m---------------------------------------------------------------------------\u001b[0m",
      "\u001b[1;31mAttributeError\u001b[0m                            Traceback (most recent call last)",
      "\u001b[1;32m~\\AppData\\Local\\Temp\\ipykernel_3268\\1438734029.py\u001b[0m in \u001b[0;36m<module>\u001b[1;34m\u001b[0m\n\u001b[0;32m      1\u001b[0m \u001b[1;32mimport\u001b[0m \u001b[0mnumpy\u001b[0m \u001b[1;32mas\u001b[0m \u001b[0mnp\u001b[0m\u001b[1;33m\u001b[0m\u001b[1;33m\u001b[0m\u001b[0m\n\u001b[1;32m----> 2\u001b[1;33m \u001b[1;32mimport\u001b[0m \u001b[0mipyvolume\u001b[0m \u001b[1;32mas\u001b[0m \u001b[0mipv\u001b[0m\u001b[1;33m\u001b[0m\u001b[1;33m\u001b[0m\u001b[0m\n\u001b[0m\u001b[0;32m      3\u001b[0m \u001b[1;33m\u001b[0m\u001b[0m\n\u001b[0;32m      4\u001b[0m \u001b[0mx\u001b[0m \u001b[1;33m=\u001b[0m \u001b[0mnp\u001b[0m\u001b[1;33m.\u001b[0m\u001b[0mlinspace\u001b[0m\u001b[1;33m(\u001b[0m\u001b[1;33m-\u001b[0m\u001b[1;36m1\u001b[0m\u001b[1;33m,\u001b[0m \u001b[1;36m1\u001b[0m\u001b[1;33m,\u001b[0m \u001b[1;36m100\u001b[0m\u001b[1;33m)\u001b[0m\u001b[1;33m\u001b[0m\u001b[1;33m\u001b[0m\u001b[0m\n\u001b[0;32m      5\u001b[0m \u001b[0my\u001b[0m \u001b[1;33m=\u001b[0m \u001b[0mnp\u001b[0m\u001b[1;33m.\u001b[0m\u001b[0mlinspace\u001b[0m\u001b[1;33m(\u001b[0m\u001b[1;33m-\u001b[0m\u001b[1;36m1\u001b[0m\u001b[1;33m,\u001b[0m \u001b[1;36m1\u001b[0m\u001b[1;33m,\u001b[0m \u001b[1;36m100\u001b[0m\u001b[1;33m)\u001b[0m\u001b[1;33m\u001b[0m\u001b[1;33m\u001b[0m\u001b[0m\n",
      "\u001b[1;32m~\\AppData\\Roaming\\Python\\Python39\\site-packages\\ipyvolume\\__init__.py\u001b[0m in \u001b[0;36m<module>\u001b[1;34m\u001b[0m\n\u001b[0;32m      6\u001b[0m \u001b[1;32mfrom\u001b[0m \u001b[0mipyvolume\u001b[0m \u001b[1;32mimport\u001b[0m \u001b[0mdatasets\u001b[0m  \u001b[1;31m# noqa: F401\u001b[0m\u001b[1;33m\u001b[0m\u001b[1;33m\u001b[0m\u001b[0m\n\u001b[0;32m      7\u001b[0m \u001b[1;32mfrom\u001b[0m \u001b[0mipyvolume\u001b[0m \u001b[1;32mimport\u001b[0m \u001b[0membed\u001b[0m  \u001b[1;31m# noqa: F401\u001b[0m\u001b[1;33m\u001b[0m\u001b[1;33m\u001b[0m\u001b[0m\n\u001b[1;32m----> 8\u001b[1;33m \u001b[1;32mfrom\u001b[0m \u001b[0mipyvolume\u001b[0m\u001b[1;33m.\u001b[0m\u001b[0mwidgets\u001b[0m \u001b[1;32mimport\u001b[0m \u001b[1;33m*\u001b[0m  \u001b[1;31m# noqa: F401, F403\u001b[0m\u001b[1;33m\u001b[0m\u001b[1;33m\u001b[0m\u001b[0m\n\u001b[0m\u001b[0;32m      9\u001b[0m \u001b[1;32mfrom\u001b[0m \u001b[0mipyvolume\u001b[0m\u001b[1;33m.\u001b[0m\u001b[0mtransferfunction\u001b[0m \u001b[1;32mimport\u001b[0m \u001b[1;33m*\u001b[0m  \u001b[1;31m# noqa: F401, F403\u001b[0m\u001b[1;33m\u001b[0m\u001b[1;33m\u001b[0m\u001b[0m\n\u001b[0;32m     10\u001b[0m \u001b[1;32mfrom\u001b[0m \u001b[0mipyvolume\u001b[0m\u001b[1;33m.\u001b[0m\u001b[0mpylab\u001b[0m \u001b[1;32mimport\u001b[0m \u001b[1;33m*\u001b[0m  \u001b[1;31m# noqa: F401, F403\u001b[0m\u001b[1;33m\u001b[0m\u001b[1;33m\u001b[0m\u001b[0m\n",
      "\u001b[1;32m~\\AppData\\Roaming\\Python\\Python39\\site-packages\\ipyvolume\\widgets.py\u001b[0m in \u001b[0;36m<module>\u001b[1;34m\u001b[0m\n\u001b[0;32m     11\u001b[0m \u001b[1;32mimport\u001b[0m \u001b[0mipywidgets\u001b[0m \u001b[1;32mas\u001b[0m \u001b[0mwidgets\u001b[0m  \u001b[1;31m# we should not have widgets under two names\u001b[0m\u001b[1;33m\u001b[0m\u001b[1;33m\u001b[0m\u001b[0m\n\u001b[0;32m     12\u001b[0m \u001b[1;32mimport\u001b[0m \u001b[0mipywebrtc\u001b[0m\u001b[1;33m\u001b[0m\u001b[1;33m\u001b[0m\u001b[0m\n\u001b[1;32m---> 13\u001b[1;33m \u001b[1;32mimport\u001b[0m \u001b[0mpythreejs\u001b[0m\u001b[1;33m\u001b[0m\u001b[1;33m\u001b[0m\u001b[0m\n\u001b[0m\u001b[0;32m     14\u001b[0m \u001b[1;32mimport\u001b[0m \u001b[0mtraitlets\u001b[0m\u001b[1;33m\u001b[0m\u001b[1;33m\u001b[0m\u001b[0m\n\u001b[0;32m     15\u001b[0m \u001b[1;32mfrom\u001b[0m \u001b[0mtraitlets\u001b[0m \u001b[1;32mimport\u001b[0m \u001b[0mUnicode\u001b[0m\u001b[1;33m,\u001b[0m \u001b[0mInteger\u001b[0m\u001b[1;33m\u001b[0m\u001b[1;33m\u001b[0m\u001b[0m\n",
      "\u001b[1;32m~\\AppData\\Roaming\\Python\\Python39\\site-packages\\pythreejs\\__init__.py\u001b[0m in \u001b[0;36m<module>\u001b[1;34m\u001b[0m\n\u001b[0;32m      4\u001b[0m \u001b[1;33m\u001b[0m\u001b[0m\n\u001b[0;32m      5\u001b[0m \u001b[1;32mfrom\u001b[0m \u001b[1;33m.\u001b[0m\u001b[0menums\u001b[0m \u001b[1;32mimport\u001b[0m \u001b[1;33m*\u001b[0m\u001b[1;33m\u001b[0m\u001b[1;33m\u001b[0m\u001b[0m\n\u001b[1;32m----> 6\u001b[1;33m \u001b[1;32mfrom\u001b[0m \u001b[1;33m.\u001b[0m\u001b[0mpythreejs\u001b[0m \u001b[1;32mimport\u001b[0m \u001b[1;33m*\u001b[0m\u001b[1;33m\u001b[0m\u001b[1;33m\u001b[0m\u001b[0m\n\u001b[0m\u001b[0;32m      7\u001b[0m \u001b[1;32mfrom\u001b[0m \u001b[1;33m.\u001b[0m\u001b[0mtraits\u001b[0m \u001b[1;32mimport\u001b[0m \u001b[1;33m*\u001b[0m\u001b[1;33m\u001b[0m\u001b[1;33m\u001b[0m\u001b[0m\n\u001b[0;32m      8\u001b[0m \u001b[1;32mfrom\u001b[0m \u001b[1;33m.\u001b[0m\u001b[0m_example_helper\u001b[0m \u001b[1;32mimport\u001b[0m \u001b[1;33m*\u001b[0m\u001b[1;33m\u001b[0m\u001b[1;33m\u001b[0m\u001b[0m\n",
      "\u001b[1;32m~\\AppData\\Roaming\\Python\\Python39\\site-packages\\pythreejs\\pythreejs.py\u001b[0m in \u001b[0;36m<module>\u001b[1;34m\u001b[0m\n\u001b[0;32m     18\u001b[0m \u001b[1;33m\u001b[0m\u001b[0m\n\u001b[0;32m     19\u001b[0m \u001b[1;33m\u001b[0m\u001b[0m\n\u001b[1;32m---> 20\u001b[1;33m \u001b[1;32mfrom\u001b[0m \u001b[1;33m.\u001b[0m\u001b[0mcore\u001b[0m\u001b[1;33m.\u001b[0m\u001b[0mBufferAttribute\u001b[0m \u001b[1;32mimport\u001b[0m \u001b[0mBufferAttribute\u001b[0m\u001b[1;33m\u001b[0m\u001b[1;33m\u001b[0m\u001b[0m\n\u001b[0m\u001b[0;32m     21\u001b[0m \u001b[1;32mfrom\u001b[0m \u001b[1;33m.\u001b[0m\u001b[0mcore\u001b[0m\u001b[1;33m.\u001b[0m\u001b[0mGeometry\u001b[0m \u001b[1;32mimport\u001b[0m \u001b[0mGeometry\u001b[0m\u001b[1;33m\u001b[0m\u001b[1;33m\u001b[0m\u001b[0m\n\u001b[0;32m     22\u001b[0m \u001b[1;32mfrom\u001b[0m \u001b[1;33m.\u001b[0m\u001b[0mcore\u001b[0m\u001b[1;33m.\u001b[0m\u001b[0mBufferGeometry\u001b[0m \u001b[1;32mimport\u001b[0m \u001b[0mBufferGeometry\u001b[0m\u001b[1;33m\u001b[0m\u001b[1;33m\u001b[0m\u001b[0m\n",
      "\u001b[1;32m~\\AppData\\Roaming\\Python\\Python39\\site-packages\\pythreejs\\core\\BufferAttribute.py\u001b[0m in \u001b[0;36m<module>\u001b[1;34m\u001b[0m\n\u001b[0;32m      2\u001b[0m \u001b[1;33m\u001b[0m\u001b[0m\n\u001b[0;32m      3\u001b[0m \u001b[1;32mfrom\u001b[0m \u001b[1;33m.\u001b[0m\u001b[1;33m.\u001b[0m\u001b[0m_base\u001b[0m\u001b[1;33m.\u001b[0m\u001b[0mThree\u001b[0m \u001b[1;32mimport\u001b[0m \u001b[0mThreeWidget\u001b[0m\u001b[1;33m\u001b[0m\u001b[1;33m\u001b[0m\u001b[0m\n\u001b[1;32m----> 4\u001b[1;33m \u001b[1;32mfrom\u001b[0m \u001b[1;33m.\u001b[0m\u001b[0mBufferAttribute_autogen\u001b[0m \u001b[1;32mimport\u001b[0m \u001b[0mBufferAttribute\u001b[0m \u001b[1;32mas\u001b[0m \u001b[0mBaseBufferAttribute\u001b[0m\u001b[1;33m\u001b[0m\u001b[1;33m\u001b[0m\u001b[0m\n\u001b[0m\u001b[0;32m      5\u001b[0m \u001b[1;33m\u001b[0m\u001b[0m\n\u001b[0;32m      6\u001b[0m \u001b[1;33m\u001b[0m\u001b[0m\n",
      "\u001b[1;32m~\\AppData\\Roaming\\Python\\Python39\\site-packages\\pythreejs\\core\\BufferAttribute_autogen.py\u001b[0m in \u001b[0;36m<module>\u001b[1;34m\u001b[0m\n\u001b[0;32m     11\u001b[0m \u001b[1;32mfrom\u001b[0m \u001b[1;33m.\u001b[0m\u001b[1;33m.\u001b[0m\u001b[0m_base\u001b[0m\u001b[1;33m.\u001b[0m\u001b[0muniforms\u001b[0m \u001b[1;32mimport\u001b[0m \u001b[0muniforms_serialization\u001b[0m\u001b[1;33m\u001b[0m\u001b[1;33m\u001b[0m\u001b[0m\n\u001b[0;32m     12\u001b[0m \u001b[1;32mfrom\u001b[0m \u001b[1;33m.\u001b[0m\u001b[1;33m.\u001b[0m\u001b[0menums\u001b[0m \u001b[1;32mimport\u001b[0m \u001b[1;33m*\u001b[0m\u001b[1;33m\u001b[0m\u001b[1;33m\u001b[0m\u001b[0m\n\u001b[1;32m---> 13\u001b[1;33m \u001b[1;32mfrom\u001b[0m \u001b[1;33m.\u001b[0m\u001b[1;33m.\u001b[0m\u001b[0mtraits\u001b[0m \u001b[1;32mimport\u001b[0m \u001b[1;33m*\u001b[0m\u001b[1;33m\u001b[0m\u001b[1;33m\u001b[0m\u001b[0m\n\u001b[0m\u001b[0;32m     14\u001b[0m \u001b[1;33m\u001b[0m\u001b[0m\n\u001b[0;32m     15\u001b[0m \u001b[1;32mfrom\u001b[0m \u001b[1;33m.\u001b[0m\u001b[1;33m.\u001b[0m\u001b[0m_base\u001b[0m\u001b[1;33m.\u001b[0m\u001b[0mThree\u001b[0m \u001b[1;32mimport\u001b[0m \u001b[0mThreeWidget\u001b[0m\u001b[1;33m\u001b[0m\u001b[1;33m\u001b[0m\u001b[0m\n",
      "\u001b[1;32m~\\AppData\\Roaming\\Python\\Python39\\site-packages\\pythreejs\\traits.py\u001b[0m in \u001b[0;36m<module>\u001b[1;34m\u001b[0m\n\u001b[0;32m     16\u001b[0m \u001b[1;32mfrom\u001b[0m \u001b[0mipywidgets\u001b[0m \u001b[1;32mimport\u001b[0m \u001b[0mwidget_serialization\u001b[0m\u001b[1;33m\u001b[0m\u001b[1;33m\u001b[0m\u001b[0m\n\u001b[0;32m     17\u001b[0m \u001b[1;33m\u001b[0m\u001b[0m\n\u001b[1;32m---> 18\u001b[1;33m \u001b[1;32mfrom\u001b[0m \u001b[0mipydatawidgets\u001b[0m \u001b[1;32mimport\u001b[0m \u001b[0mDataUnion\u001b[0m\u001b[1;33m,\u001b[0m \u001b[0mNDArrayWidget\u001b[0m\u001b[1;33m,\u001b[0m \u001b[0mshape_constraints\u001b[0m\u001b[1;33m\u001b[0m\u001b[1;33m\u001b[0m\u001b[0m\n\u001b[0m\u001b[0;32m     19\u001b[0m \u001b[1;33m\u001b[0m\u001b[0m\n\u001b[0;32m     20\u001b[0m \u001b[1;32mimport\u001b[0m \u001b[0mnumpy\u001b[0m \u001b[1;32mas\u001b[0m \u001b[0mnp\u001b[0m\u001b[1;33m\u001b[0m\u001b[1;33m\u001b[0m\u001b[0m\n",
      "\u001b[1;32m~\\AppData\\Roaming\\Python\\Python39\\site-packages\\ipydatawidgets\\__init__.py\u001b[0m in \u001b[0;36m<module>\u001b[1;34m\u001b[0m\n\u001b[0;32m      5\u001b[0m \u001b[1;31m# Distributed under the terms of the Modified BSD License.\u001b[0m\u001b[1;33m\u001b[0m\u001b[1;33m\u001b[0m\u001b[0m\n\u001b[0;32m      6\u001b[0m \u001b[1;33m\u001b[0m\u001b[0m\n\u001b[1;32m----> 7\u001b[1;33m \u001b[1;32mfrom\u001b[0m \u001b[1;33m.\u001b[0m\u001b[0mndarray\u001b[0m \u001b[1;32mimport\u001b[0m \u001b[1;33m*\u001b[0m\u001b[1;33m\u001b[0m\u001b[1;33m\u001b[0m\u001b[0m\n\u001b[0m\u001b[0;32m      8\u001b[0m \u001b[1;32mfrom\u001b[0m \u001b[1;33m.\u001b[0m\u001b[0mwidgets\u001b[0m \u001b[1;32mimport\u001b[0m \u001b[0mDataWidget\u001b[0m\u001b[1;33m\u001b[0m\u001b[1;33m\u001b[0m\u001b[0m\n\u001b[0;32m      9\u001b[0m \u001b[1;32mfrom\u001b[0m \u001b[1;33m.\u001b[0m\u001b[0m_version\u001b[0m \u001b[1;32mimport\u001b[0m \u001b[0m__version__\u001b[0m\u001b[1;33m,\u001b[0m \u001b[0mversion_info\u001b[0m\u001b[1;33m\u001b[0m\u001b[1;33m\u001b[0m\u001b[0m\n",
      "\u001b[1;32m~\\AppData\\Roaming\\Python\\Python39\\site-packages\\ipydatawidgets\\ndarray\\__init__.py\u001b[0m in \u001b[0;36m<module>\u001b[1;34m\u001b[0m\n\u001b[0;32m      5\u001b[0m \u001b[1;31m# Distributed under the terms of the Modified BSD License.\u001b[0m\u001b[1;33m\u001b[0m\u001b[1;33m\u001b[0m\u001b[0m\n\u001b[0;32m      6\u001b[0m \u001b[1;33m\u001b[0m\u001b[0m\n\u001b[1;32m----> 7\u001b[1;33m \u001b[1;32mfrom\u001b[0m \u001b[1;33m.\u001b[0m\u001b[0mmedia\u001b[0m \u001b[1;32mimport\u001b[0m \u001b[0mDataImage\u001b[0m\u001b[1;33m\u001b[0m\u001b[1;33m\u001b[0m\u001b[0m\n\u001b[0m\u001b[0;32m      8\u001b[0m \u001b[1;32mfrom\u001b[0m \u001b[1;33m.\u001b[0m\u001b[0mserializers\u001b[0m \u001b[1;32mimport\u001b[0m \u001b[0marray_serialization\u001b[0m\u001b[1;33m,\u001b[0m \u001b[0mdata_union_serialization\u001b[0m\u001b[1;33m\u001b[0m\u001b[1;33m\u001b[0m\u001b[0m\n\u001b[0;32m      9\u001b[0m \u001b[1;32mfrom\u001b[0m \u001b[1;33m.\u001b[0m\u001b[0mtraits\u001b[0m \u001b[1;32mimport\u001b[0m \u001b[0mNDArray\u001b[0m\u001b[1;33m,\u001b[0m \u001b[0mshape_constraints\u001b[0m\u001b[1;33m\u001b[0m\u001b[1;33m\u001b[0m\u001b[0m\n",
      "\u001b[1;32m~\\AppData\\Roaming\\Python\\Python39\\site-packages\\ipydatawidgets\\ndarray\\media.py\u001b[0m in \u001b[0;36m<module>\u001b[1;34m\u001b[0m\n\u001b[0;32m     15\u001b[0m \u001b[1;33m\u001b[0m\u001b[0m\n\u001b[0;32m     16\u001b[0m \u001b[1;33m\u001b[0m\u001b[0m\n\u001b[1;32m---> 17\u001b[1;33m \u001b[1;32mclass\u001b[0m \u001b[0mDataImage\u001b[0m\u001b[1;33m(\u001b[0m\u001b[0mDataWidget\u001b[0m\u001b[1;33m,\u001b[0m \u001b[0mDOMWidget\u001b[0m\u001b[1;33m)\u001b[0m\u001b[1;33m:\u001b[0m\u001b[1;33m\u001b[0m\u001b[1;33m\u001b[0m\u001b[0m\n\u001b[0m\u001b[0;32m     18\u001b[0m     \"\"\"A data-widgets based Image widget.\n\u001b[0;32m     19\u001b[0m     \"\"\"\n",
      "\u001b[1;32mE:\\ML\\Anaconda\\lib\\site-packages\\traitlets\\traitlets.py\u001b[0m in \u001b[0;36m__init__\u001b[1;34m(cls, name, bases, classdict)\u001b[0m\n\u001b[0;32m    805\u001b[0m         \u001b[1;34m\"\"\"Finish initializing the HasDescriptors class.\"\"\"\u001b[0m\u001b[1;33m\u001b[0m\u001b[1;33m\u001b[0m\u001b[0m\n\u001b[0;32m    806\u001b[0m         \u001b[0msuper\u001b[0m\u001b[1;33m(\u001b[0m\u001b[0mMetaHasDescriptors\u001b[0m\u001b[1;33m,\u001b[0m \u001b[0mcls\u001b[0m\u001b[1;33m)\u001b[0m\u001b[1;33m.\u001b[0m\u001b[0m__init__\u001b[0m\u001b[1;33m(\u001b[0m\u001b[0mname\u001b[0m\u001b[1;33m,\u001b[0m \u001b[0mbases\u001b[0m\u001b[1;33m,\u001b[0m \u001b[0mclassdict\u001b[0m\u001b[1;33m)\u001b[0m\u001b[1;33m\u001b[0m\u001b[1;33m\u001b[0m\u001b[0m\n\u001b[1;32m--> 807\u001b[1;33m         \u001b[0mcls\u001b[0m\u001b[1;33m.\u001b[0m\u001b[0msetup_class\u001b[0m\u001b[1;33m(\u001b[0m\u001b[0mclassdict\u001b[0m\u001b[1;33m)\u001b[0m\u001b[1;33m\u001b[0m\u001b[1;33m\u001b[0m\u001b[0m\n\u001b[0m\u001b[0;32m    808\u001b[0m \u001b[1;33m\u001b[0m\u001b[0m\n\u001b[0;32m    809\u001b[0m     \u001b[1;32mdef\u001b[0m \u001b[0msetup_class\u001b[0m\u001b[1;33m(\u001b[0m\u001b[0mcls\u001b[0m\u001b[1;33m,\u001b[0m \u001b[0mclassdict\u001b[0m\u001b[1;33m)\u001b[0m\u001b[1;33m:\u001b[0m\u001b[1;33m\u001b[0m\u001b[1;33m\u001b[0m\u001b[0m\n",
      "\u001b[1;32mE:\\ML\\Anaconda\\lib\\site-packages\\traitlets\\traitlets.py\u001b[0m in \u001b[0;36msetup_class\u001b[1;34m(cls, classdict)\u001b[0m\n\u001b[0;32m    828\u001b[0m     \u001b[1;32mdef\u001b[0m \u001b[0msetup_class\u001b[0m\u001b[1;33m(\u001b[0m\u001b[0mcls\u001b[0m\u001b[1;33m,\u001b[0m \u001b[0mclassdict\u001b[0m\u001b[1;33m)\u001b[0m\u001b[1;33m:\u001b[0m\u001b[1;33m\u001b[0m\u001b[1;33m\u001b[0m\u001b[0m\n\u001b[0;32m    829\u001b[0m         \u001b[0mcls\u001b[0m\u001b[1;33m.\u001b[0m\u001b[0m_trait_default_generators\u001b[0m \u001b[1;33m=\u001b[0m \u001b[1;33m{\u001b[0m\u001b[1;33m}\u001b[0m\u001b[1;33m\u001b[0m\u001b[1;33m\u001b[0m\u001b[0m\n\u001b[1;32m--> 830\u001b[1;33m         \u001b[0msuper\u001b[0m\u001b[1;33m(\u001b[0m\u001b[0mMetaHasTraits\u001b[0m\u001b[1;33m,\u001b[0m \u001b[0mcls\u001b[0m\u001b[1;33m)\u001b[0m\u001b[1;33m.\u001b[0m\u001b[0msetup_class\u001b[0m\u001b[1;33m(\u001b[0m\u001b[0mclassdict\u001b[0m\u001b[1;33m)\u001b[0m\u001b[1;33m\u001b[0m\u001b[1;33m\u001b[0m\u001b[0m\n\u001b[0m\u001b[0;32m    831\u001b[0m \u001b[1;33m\u001b[0m\u001b[0m\n\u001b[0;32m    832\u001b[0m \u001b[1;33m\u001b[0m\u001b[0m\n",
      "\u001b[1;32mE:\\ML\\Anaconda\\lib\\site-packages\\traitlets\\traitlets.py\u001b[0m in \u001b[0;36msetup_class\u001b[1;34m(cls, classdict)\u001b[0m\n\u001b[0;32m    820\u001b[0m         \u001b[1;32mfor\u001b[0m \u001b[0mk\u001b[0m\u001b[1;33m,\u001b[0m \u001b[0mv\u001b[0m \u001b[1;32min\u001b[0m \u001b[0mgetmembers\u001b[0m\u001b[1;33m(\u001b[0m\u001b[0mcls\u001b[0m\u001b[1;33m)\u001b[0m\u001b[1;33m:\u001b[0m\u001b[1;33m\u001b[0m\u001b[1;33m\u001b[0m\u001b[0m\n\u001b[0;32m    821\u001b[0m             \u001b[1;32mif\u001b[0m \u001b[0misinstance\u001b[0m\u001b[1;33m(\u001b[0m\u001b[0mv\u001b[0m\u001b[1;33m,\u001b[0m \u001b[0mBaseDescriptor\u001b[0m\u001b[1;33m)\u001b[0m\u001b[1;33m:\u001b[0m\u001b[1;33m\u001b[0m\u001b[1;33m\u001b[0m\u001b[0m\n\u001b[1;32m--> 822\u001b[1;33m                 \u001b[0mv\u001b[0m\u001b[1;33m.\u001b[0m\u001b[0msubclass_init\u001b[0m\u001b[1;33m(\u001b[0m\u001b[0mcls\u001b[0m\u001b[1;33m)\u001b[0m\u001b[1;33m\u001b[0m\u001b[1;33m\u001b[0m\u001b[0m\n\u001b[0m\u001b[0;32m    823\u001b[0m \u001b[1;33m\u001b[0m\u001b[0m\n\u001b[0;32m    824\u001b[0m \u001b[1;33m\u001b[0m\u001b[0m\n",
      "\u001b[1;32m~\\AppData\\Roaming\\Python\\Python39\\site-packages\\ipydatawidgets\\ndarray\\union.py\u001b[0m in \u001b[0;36msubclass_init\u001b[1;34m(self, cls)\u001b[0m\n\u001b[0;32m     57\u001b[0m \u001b[1;33m\u001b[0m\u001b[0m\n\u001b[0;32m     58\u001b[0m     \u001b[1;32mdef\u001b[0m \u001b[0msubclass_init\u001b[0m\u001b[1;33m(\u001b[0m\u001b[0mself\u001b[0m\u001b[1;33m,\u001b[0m \u001b[0mcls\u001b[0m\u001b[1;33m)\u001b[0m\u001b[1;33m:\u001b[0m\u001b[1;33m\u001b[0m\u001b[1;33m\u001b[0m\u001b[0m\n\u001b[1;32m---> 59\u001b[1;33m         \u001b[0mcls\u001b[0m\u001b[1;33m.\u001b[0m\u001b[0m_instance_inits\u001b[0m\u001b[1;33m.\u001b[0m\u001b[0mappend\u001b[0m\u001b[1;33m(\u001b[0m\u001b[0mself\u001b[0m\u001b[1;33m.\u001b[0m\u001b[0minstance_init\u001b[0m\u001b[1;33m)\u001b[0m\u001b[1;33m\u001b[0m\u001b[1;33m\u001b[0m\u001b[0m\n\u001b[0m\u001b[0;32m     60\u001b[0m         \u001b[1;32mreturn\u001b[0m \u001b[0msuper\u001b[0m\u001b[1;33m(\u001b[0m\u001b[1;33m)\u001b[0m\u001b[1;33m.\u001b[0m\u001b[0msubclass_init\u001b[0m\u001b[1;33m(\u001b[0m\u001b[0mcls\u001b[0m\u001b[1;33m)\u001b[0m\u001b[1;33m\u001b[0m\u001b[1;33m\u001b[0m\u001b[0m\n\u001b[0;32m     61\u001b[0m \u001b[1;33m\u001b[0m\u001b[0m\n",
      "\u001b[1;31mAttributeError\u001b[0m: type object 'DataImage' has no attribute '_instance_inits'"
     ]
    }
   ],
   "source": [
    "import numpy as np\n",
    "import ipyvolume as ipv\n",
    "\n",
    "x = np.linspace(-1, 1, 100)\n",
    "y = np.linspace(-1, 1, 100)\n",
    "z = np.linspace(-1, 1, 100)\n",
    "Y, Z, X = np.meshgrid(x, y, z) \n",
    "\n",
    "def gaussian(x0, y0, z0):\n",
    "    return np.exp(-(X - x0)**2 - (Y - y0)**2 - (Z - z0)**2)\n",
    "\n",
    "data = gaussian(0.1, -0.1, -0.1) - gaussian(-0.5, -0.5, -0.5) - gaussian(0.5, 0.5, 0.5)\n",
    "\n",
    "ipv.figure()\n",
    "ipv.volshow(data)\n",
    "ipv.view(-40)\n",
    "ipv.show()"
   ]
  },
  {
   "cell_type": "markdown",
   "id": "bc6b6ff3-e08c-4836-a8bd-ef5da273091b",
   "metadata": {},
   "source": [
    "借助IPython提供的交互控件，可以使用下方的拖动条查看data的在xy方向上的二维数据切片。"
   ]
  },
  {
   "cell_type": "code",
   "execution_count": null,
   "id": "191489c8-2bdf-49da-86ce-29413e2ddb26",
   "metadata": {},
   "outputs": [],
   "source": [
    "from ipywidgets import interactive\n",
    "import matplotlib.pyplot as plt\n",
    "\n",
    "def slice_z(i):\n",
    "    fig, ax = plt.subplots(figsize=(8, 8))\n",
    "    im = ax.imshow(data[i,:,:], vmin=-1, vmax=1, cmap=plt.get_cmap('gist_rainbow'))\n",
    "    ct = ax.contour(data[i,:,:])\n",
    "    bar = plt.colorbar(im)\n",
    "    plt.show()\n",
    "\n",
    "interact_plot = interactive(slice_z, i=(0, 99))\n",
    "interact_plot"
   ]
  },
  {
   "cell_type": "markdown",
   "id": "eab25651-8a08-4a30-ae11-b276eb063f8e",
   "metadata": {},
   "source": [
    "## 提示\n",
    "---\n",
    "\n",
    "寻找过渡态的一个常用算法是微动弹性带（[Nudged Elastic Band](https://theory.cm.utexas.edu/henkelman/pubs/jonsson98_385.pdf)）。它的核心思想是，将初始坐标和终态坐标用若干个中间态（例如11个）连接起来，然后让这些中间态沿着函数梯度的反方向移动（类似于小球在地形图中沿着山坡向下移动）；为了避免这些中间态都收敛到附近的局部极小（类似于小球都落入了盆地），相邻中间态之间用一根虚拟的弹簧连接，从而迫使相邻中间态有一定的间距。当这个小球弹簧链（微动弹性带）移动停止时，其所在位置就是所谓的最低能量路径（minimal energy path），其中间函数值最大的位置就是鞍点或者过渡态。\n",
    "\n",
    "在迭代计算过程中，中间态的移动同时受*函数梯度*和*弹簧弹力*的调控。为了保持中间态的间距尽量不改变，以及虚拟弹簧不影响路径正确性，可以对*函数梯度*和*弹簧弹力*进行矢量分解。其中，*函数梯度*只保留垂直于路径的分量；*弹簧弹力*只保留沿着路径的分量。\n",
    "\n",
    "\n",
    "参考资料：[Nudged Elastic Band Method](https://fidimag.readthedocs.io/en/stable/nebm.html)\n",
    "\n",
    "![](https://fidimag.readthedocs.io/en/stable/_images/nebm.png)"
   ]
  },
  {
   "cell_type": "markdown",
   "id": "628884b6",
   "metadata": {},
   "source": [
    "## 介绍"
   ]
  },
  {
   "cell_type": "markdown",
   "id": "36d88c08",
   "metadata": {},
   "source": [
    "代码中使用的算法是NEB算法的一种改进版——CI-NEB算法，它可以更快地找到最低能量路径和鞍点。此外，代码也实现了梯度下降法和共轭梯度法，用于优化中间态的位置。"
   ]
  },
  {
   "cell_type": "markdown",
   "id": "2c22f97e",
   "metadata": {},
   "source": [
    "## 说实在的，笔者对NEB算法还是一知半解，本作作业辅以Chatgpt完成，阅读相关文献后搞懂了原理。在文章末尾，另外笔者介绍了其他算法可以计算鞍点"
   ]
  },
  {
   "cell_type": "markdown",
   "id": "92166d07",
   "metadata": {},
   "source": [
    "## 关于NEB算法"
   ]
  },
  {
   "cell_type": "markdown",
   "id": "f9972d6b",
   "metadata": {},
   "source": [
    "NEB算法（Nudged Elastic Band）是一种用于计算分子中化学反应路径的方法，通过建立一条连接起始和结束状态的能量最低路径，可以揭示反应的机理和速率常数等信息。下面是NEB算法的详细介绍：\n",
    "\n",
    "理论基础\n",
    "NEB算法基于能量最低路径理论，该理论认为在多维势能面上，反应物和产物之间存在一条能量最低的路径。如果在该路径上放置一些虚拟的原子，并使其沿着这条路径运动，那么这些虚拟原子的运动将沿着反应的最低能量路径进行。\n",
    "\n",
    "算法步骤\n",
    "\n",
    "（1）定义初始状态和结束状态，即反应物和产物的几何构型。\n",
    "\n",
    "（2）在初始状态和结束状态之间插入一些中间状态，每个中间状态都是由初始状态和结束状态之间的插值得到的，插值的方法可以是线性插值或其他插值方法。\n",
    "\n",
    "（3）在每个中间状态上放置虚拟原子，并使这些原子在能量最低路径上运动。\n",
    "\n",
    "（4）计算每个虚拟原子的力和能量，根据虚拟原子的力和能量计算出能量最低路径。\n",
    "\n",
    "（5）根据能量最低路径进行反应动力学的计算"
   ]
  },
  {
   "cell_type": "markdown",
   "id": "99978a21",
   "metadata": {},
   "source": [
    "##  定义能量和梯度函数"
   ]
  },
  {
   "cell_type": "code",
   "execution_count": 14,
   "id": "c6993855",
   "metadata": {},
   "outputs": [],
   "source": [
    "def energy(x):\n",
    "    return gaussian(*x)"
   ]
  },
  {
   "cell_type": "code",
   "execution_count": 15,
   "id": "704e1212",
   "metadata": {},
   "outputs": [],
   "source": [
    "def gradient(x):\n",
    "    h = 1e-6\n",
    "    grad = np.zeros_like(x)\n",
    "    for i in range(len(x)):\n",
    "        x_plus = x.copy()\n",
    "        x_minus = x.copy()\n",
    "        x_plus[i] += h\n",
    "        x_minus[i] -= h\n",
    "        grad[i] = (energy(x_plus) - energy(x_minus)) / (2 * h)\n",
    "    return grad"
   ]
  },
  {
   "cell_type": "markdown",
   "id": "d27eb6ca",
   "metadata": {},
   "source": [
    "## 定义NEB类，代码中包含两个类：NEB和CI_NEB。NEB类实现了标准的NEB算法，而CI_NEB类则实现了改进版的CI-NEB算法，其中包含一个附加的步骤，用于控制矫正力的大小。\n",
    "\n",
    "在这些类中，optimize方法使用共轭梯度法或梯度下降法对中间态进行优化。_energy和_gradient方法计算能量和梯度，而_energy_wrapper和_gradient_wrapper方法用于将这些方法包装成可以传递给优化器的形式。_energy方法中的第一项计算势能，第二项计算矫正力的大小。\n",
    "最后，使用以下代码创建NEB对象，并运行优化程序："
   ]
  },
  {
   "cell_type": "code",
   "execution_count": 16,
   "id": "bed306e5",
   "metadata": {},
   "outputs": [],
   "source": [
    "class NEB:\n",
    "    def __init__(self, initial, final, n_images):\n",
    "        self.initial = initial\n",
    "        self.final = final\n",
    "        self.n_images = n_images\n",
    "        self.images = np.zeros((n_images, 3))\n",
    "        self.energies = np.zeros(n_images)\n",
    "        self.forces = np.zeros((n_images, 3))\n",
    "        self.spring_constants = np.ones(n_images - 1) * 1e6\n",
    "        self.dt = 0.1\n",
    "        self.tolerance = 1e-4\n",
    "\n",
    "    def optimize(self, method='CG'):\n",
    "        if method == 'CG':\n",
    "            self._optimize_cg()\n",
    "        elif method == 'GD':\n",
    "            self._optimize_gd()\n",
    "        else:\n",
    "            raise ValueError('Invalid optimization method')\n",
    "\n",
    "    def _optimize_cg(self):\n",
    "        for i in range(self.n_images):\n",
    "            x0 = self.images[i]\n",
    "            res = minimize(self._energy_wrapper, x0, method='CG', jac=self._gradient_wrapper, tol=self.tolerance)\n",
    "            self.images[i] = res.x\n",
    "            self.energies[i] = res.fun\n",
    "            self.forces[i] = self._gradient_wrapper(self.images[i])\n",
    "\n",
    "    def _optimize_gd(self):\n",
    "        for i in range(self.n_images):\n",
    "            x0 = self.images[i]\n",
    "            grad = self._gradient_wrapper(x0)\n",
    "            self.images[i] -= self.dt * grad\n",
    "            self.energies[i] = self._energy_wrapper(self.images[i])\n",
    "            self.forces[i] = self._gradient_wrapper(self.images[i])\n",
    "\n",
    "    def _energy_wrapper(self, x):\n",
    "        return self._energy(x, self.spring_constants)\n",
    "\n",
    "    def _gradient_wrapper(self, x):\n",
    "        return self._gradient(x, self.spring_constants)\n",
    "\n",
    "    def _energy(self, x, k):\n",
    "        n = self.n_images\n",
    "        dx = np.diff(self.images, axis=0)\n",
    "        d = np.linalg.norm(dx, axis=1)\n",
    "        f = np.zeros_like(dx)\n",
    "        f[:, 1:-1] = k[:, np.newaxis] * (dx[1:] / d[1:, np.newaxis] - dx[:-1] / d[:-1, np.newaxis])\n",
    "        f[0] = 0\n",
    "        f[-1] = 0\n",
    "        e = np.zeros(n)\n",
    "        for i in range(n):\n",
    "            if i == 0:\n",
    "                e[i] = energy(self.initial)\n",
    "            elif i == n - 1:\n",
    "                e[i] = energy(self.final)\n",
    "            else:\n",
    "                e[i] = energy(x[i - 1])\n",
    "        return np.sum(e) + 0.5 * np.sum(np.linalg.norm(f, axis=1) ** 2)\n",
    "\n",
    "    def _gradient(self, x, k):\n",
    "        n = self.n_images\n",
    "        dx = np.diff(self.images, axis=0)\n",
    "        d = np.linalg.norm(dx, axis=1)\n",
    "        f = np.zeros_like(dx)\n",
    "        f[:, 1:-1] = k[:, np.newaxis] * (dx[1:] / d[1:, np.newaxis] - dx[:-1] / d[:-1, np.newaxis])\n",
    "        f[0] = 0\n",
    "        f[-1] = 0\n",
    "        g = np.zeros((n, 3))\n",
    "        for i in range(n):\n",
    "            if i == 0:\n",
    "                g[i] = np.zeros(3)\n",
    "            elif i == n - 1:\n",
    "                g[i] = np.zeros(3)\n",
    "            else:\n",
    "                g[i] = gradient(x[i - 1])\n",
    "        return np.sum(g, axis=0) + np.sum(f[1:] - f[:-1], axis=0)\n",
    "\n",
    "\n",
    "class CI_NEB(NEB):\n",
    "    def __init__(self, initial, final, n_images):\n",
    "        super().__init__(initial, final, n_images)\n",
    "        self.alpha = 0.3\n",
    "\n",
    "    def _gradient(self, x, k):\n",
    "        n = self.n_images\n",
    "        dx = np.diff(self.images, axis=0)\n",
    "        d = np.linalg.norm(dx, axis=1)\n",
    "        f = np.zeros_like(dx)\n",
    "        f[:, 1:-1] = k[:, np.newaxis] * (dx[1:] / d[1:, np.newaxis] - dx[:-1] / d[:-1, np.newaxis])\n",
    "        f[0] = 0\n",
    "        f[-1] = 0\n",
    "        g = np.zeros((n, 3))\n",
    "        for i in range(n):\n",
    "            if i == 0:\n",
    "                g[i] = np.zeros(3)\n",
    "            elif i == n - 1:\n",
    "                g[i] = np.zeros(3)\n",
    "            else:\n",
    "                g[i] = gradient(x[i - 1])\n",
    "        s = np.zeros_like(dx)\n",
    "        s[:, 1:-1] = (f[1:] - f[:-1]) / d[:, np.newaxis]\n",
    "        s[0] = 0\n",
    "        s[-1] = 0\n",
    "        b = np.zeros_like(dx)\n",
    "        b[:, 1:-1] = np.dot(s[1:], dx[:-1]) + np.dot(s[:-1], dx[1:])\n",
    "        b[0] = 0\n",
    "        b[-1] = 0\n",
    "        b_norm = np.linalg.norm(b)\n",
    "        if b_norm > self.alpha:\n",
    "            b *= self.alpha / b_norm\n",
    "        return np.sum(g, axis=0) + np.sum(f[1:] - f[:-1], axis=0) - b[1:]"
   ]
  },
  {
   "cell_type": "markdown",
   "id": "0fced449",
   "metadata": {},
   "source": [
    "## 结果输出"
   ]
  },
  {
   "attachments": {
    "image.png": {
     "image/png": "[encoded data removed]"
    }
   },
   "cell_type": "markdown",
   "id": "707d874c",
   "metadata": {},
   "source": [
    "![image.png](attachment:image.png)"
   ]
  },
  {
   "cell_type": "markdown",
   "id": "ee06151f",
   "metadata": {},
   "source": [
    "## 其他方法"
   ]
  },
  {
   "cell_type": "markdown",
   "id": "914b95ee",
   "metadata": {},
   "source": [
    "此外，还可以使用梯度下降法和牛顿法来寻找给定三变量函数的局部极小值和鞍点。说实在的，笔者对EBN算法还是一知半解，本作作业辅以Chatgpt完成，阅读相关文献后搞懂了原理。另外笔者知道其他算法可以计算鞍点：可以使用梯度下降法和牛顿法来寻找给定三变量函数的局部极小值和鞍点"
   ]
  },
  {
   "cell_type": "markdown",
   "id": "df3db564",
   "metadata": {},
   "source": [
    "## 梯度下降法"
   ]
  },
  {
   "cell_type": "markdown",
   "id": "34a97004",
   "metadata": {},
   "source": [
    "梯度下降法是一种迭代算法，其目标是最小化函数 $f(x,y,z)$。该算法的基本思想是通过沿着负梯度方向（即函数值下降最快的方向）迭代地更新参数，直到达到局部极小值或达到预定的迭代次数。具体步骤如下："
   ]
  },
  {
   "cell_type": "markdown",
   "id": "7a32ef0d",
   "metadata": {},
   "source": [
    "a.初始化一下 $x_0, y_0, z_0$。\n",
    "\n",
    "b. 计算函数 $f(x_0, y_0, z_0)$ 在当前点的梯度 $\\nabla f(x_0, y_0, z_0)$。\n",
    "\n",
    "c. 沿着负梯度方向更新参数值，即 $x_1 = x_0 - \\alpha \\frac{\\partial f}{\\partial x}(x_0,y_0,z_0)$，$y_1 = y_0 - \\alpha \\frac{\\partial f}{\\partial y}(x_0,y_0,z_0)$，$z_1 = z_0 - \\alpha \\frac{\\partial f}{\\partial z}(x_0,y_0,z_0)$，其中 $\\alpha$ 是学习率，控制每次更新的步长大小。\n",
    "\n",
    "d. 重复步骤 b 和 c 直到达到预定的迭代次数或函数值的变化量小于某个阈值。\n",
    "\n",
    "e. 最终的参数值 $x^, y^, z^*$ 即为函数 $f(x,y,z)$ 的局部极小值或鞍点。"
   ]
  },
  {
   "cell_type": "markdown",
   "id": "e14818e3",
   "metadata": {},
   "source": [
    "## 牛顿法"
   ]
  },
  {
   "cell_type": "markdown",
   "id": "7f5d5634",
   "metadata": {},
   "source": [
    "牛顿法是一种迭代算法，其目标是最小化函数 $f(x,y,z)$。该算法的基本思想是通过利用函数的二阶导数信息来更新参数，从而更快地收敛到最优解。具体步骤如下："
   ]
  },
  {
   "cell_type": "markdown",
   "id": "35067862",
   "metadata": {},
   "source": [
    "a. 随机初始化三个变量 $x_0, y_0, z_0$。\n",
    "\n",
    "b. 计算函数 $f(x_0, y_0, z_0)$ 在当前点的梯度 $\\nabla f(x_0, y_0, z_0)$ 和 Hessian 矩阵 $H(f)(x_0, y_0, z_0)$。\n",
    "\n",
    "c. 计算更新参数的方向和步长，即 $\\Delta x = -[H(f)(x_0, y_0, z_0)]^{-1} \\nabla f(x_0, y_0, z_0)$。\n",
    "\n",
    "d. 沿着更新参数的方向和步长更新参数值，即 $x_1 = x_0 + \\Delta x_1$，$y_1 = y_0 + \\Delta y_1$，$z_1 = z_0 + \\Delta z_1$。\n",
    "\n",
    "e. 重复步骤 b，c 和 d 直到达到预定的迭代次数或函数值的变化量小于某个阈值。\n",
    "\n",
    "f. 最终的参数值 $x^, y^, z^*$ 即为函数 $f(x,y,z)$ 的局部极小值或鞍点。"
   ]
  },
  {
   "cell_type": "markdown",
   "id": "a686e712",
   "metadata": {},
   "source": [
    "## Hessian矩阵如何判断鞍点"
   ]
  },
  {
   "cell_type": "markdown",
   "id": "235167bc",
   "metadata": {},
   "source": [
    "Hessian矩阵是一个关于多元函数的二阶偏导数矩阵，它可以用来判断函数的驻点类型。在三元函数 $f(x,y,z)$ 中，Hessian矩阵为："
   ]
  },
  {
   "attachments": {
    "image.png": {
     "image/png": "[encoded data removed]"
    }
   },
   "cell_type": "markdown",
   "id": "2291426c",
   "metadata": {},
   "source": [
    "![image.png](attachment:image.png)"
   ]
  },
  {
   "cell_type": "code",
   "execution_count": null,
   "id": "314ea44c",
   "metadata": {},
   "outputs": [],
   "source": []
  },
  {
   "cell_type": "markdown",
   "id": "8e43806b",
   "metadata": {},
   "source": [
    "Hessian矩阵的特征值可以告诉我们函数在某点的驻点类型，特别是是否为鞍点。具体方法如下："
   ]
  },
  {
   "cell_type": "markdown",
   "id": "cda07e57",
   "metadata": {},
   "source": [
    "计算 Hessian 矩阵 $H(f)$ 在鞍点 $(x_0,y_0,z_0)$ 处的特征值 $\\lambda_1,\\lambda_2,\\lambda_3$。\n",
    "\n",
    "判断鞍点的类型：\n",
    "\n",
    "1.如果 $\\lambda_1,\\lambda_2,\\lambda_3$ 全部为正数或全部为负数，则该点为局部极小\n",
    "\n",
    "2.值或局部极大值。\n",
    "\n",
    "3.如果 $\\lambda_1,\\lambda_2$ 同号且与 $\\lambda_3$ 不同号，则该点为鞍点。\n",
    "\n",
    "4.如果 $\\lambda_1,\\lambda_2,\\lambda_3$ 不同号，则该点为鞍点。"
   ]
  },
  {
   "cell_type": "markdown",
   "id": "97cb3ef2",
   "metadata": {},
   "source": [
    "具体来说，如果 Hessian 矩阵是正定的，则所有特征值 $\\lambda_1,\\lambda_2,\\lambda_3$ 都是正数，因此该点为局部极小值。如果 Hessian 矩阵是负定的，则所有特征值都是负数，因此该点为局部极大值。如果 Hessian 矩阵既不是正定也不是负定，则该点为鞍点。在鞍点处，Hessian 矩阵的特征值的符号情况是 $\\lambda_1,\\lambda_2$ 同号且与 $\\lambda_3$ 不同号，或者 $\\lambda_2,\\lambda_3$ 同号且与 $\\lambda_1$ 不同号，或者 $\\lambda_1,\\lambda_3$ 同号且与 $\\lambda_2$ 不同号。"
   ]
  },
  {
   "cell_type": "markdown",
   "id": "f46172b7",
   "metadata": {},
   "source": [
    "## 参考文献"
   ]
  },
  {
   "cell_type": "markdown",
   "id": "031e70cc",
   "metadata": {},
   "source": [
    "# [1] Horn, R. A., & Johnson, C. R. (2012). Matrix analysis. Cambridge University Press.\n",
    "# [2] Golub, G. H., & Van Loan, C. F. (2013). Matrix computations. Johns Hopkins University Press.\n",
    "# [3]  Boyd, S., & Vandenberghe, L. (2004). Convex optimization. Cambridge University Press.\n",
    "# [4] Bishop, C. M. (2006). Pattern recognition and machine learning. Springer.\n",
    "# [5]  Nocedal, J., & Wright, S. J. (2006). Numerical optimization. Springer.\n",
    "# [6]  Press, W. H., Teukolsky, S. A., Vetterling, W. T., & Flannery, B. P. (2007).Numerical recipes: the art of scientific computing. Cambridge University Press.\n",
    "# [7] OpenAI. (2020). DALL-E & CLIP: Neural Rendering of Images from Text. Retrieved from https://openai.com/blog/dall-e/"
   ]
  },
  {
   "cell_type": "code",
   "execution_count": null,
   "id": "436ca192",
   "metadata": {},
   "outputs": [],
   "source": []
  },
  {
   "cell_type": "code",
   "execution_count": null,
   "id": "39276255",
   "metadata": {},
   "outputs": [],
   "source": []
  },
  {
   "cell_type": "code",
   "execution_count": null,
   "id": "b3301bc0",
   "metadata": {},
   "outputs": [],
   "source": []
  }
 ],
 "metadata": {
  "kernelspec": {
   "display_name": "Python 3 (ipykernel)",
   "language": "python",
   "name": "python3"
  },
  "language_info": {
   "codemirror_mode": {
    "name": "ipython",
    "version": 3
   },
   "file_extension": ".py",
   "mimetype": "text/x-python",
   "name": "python",
   "nbconvert_exporter": "python",
   "pygments_lexer": "ipython3",
   "version": "3.9.13"
  }
 },
 "nbformat": 4,
 "nbformat_minor": 5
}
